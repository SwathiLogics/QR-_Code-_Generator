{
 "cells": [
  {
   "cell_type": "code",
   "execution_count": 1,
   "id": "9d104534-86e9-48a2-be32-c188a76af7de",
   "metadata": {},
   "outputs": [
    {
     "name": "stdout",
     "output_type": "stream",
     "text": [
      "Collecting qrcode[pil]\n",
      "  Downloading qrcode-7.4.2-py3-none-any.whl (46 kB)\n",
      "     ---------------------------------------- 0.0/46.2 kB ? eta -:--:--\n",
      "     ----------------------------------- ---- 41.0/46.2 kB ? eta -:--:--\n",
      "     -------------------------------------- 46.2/46.2 kB 382.5 kB/s eta 0:00:00\n",
      "Requirement already satisfied: typing-extensions in c:\\python\\python38\\lib\\site-packages (from qrcode[pil]) (4.1.1)\n",
      "Collecting pypng (from qrcode[pil])\n",
      "  Downloading pypng-0.20220715.0-py3-none-any.whl (58 kB)\n",
      "     ---------------------------------------- 0.0/58.1 kB ? eta -:--:--\n",
      "     ----------------------------------- ---- 51.2/58.1 kB ? eta -:--:--\n",
      "     ----------------------------------- ---- 51.2/58.1 kB ? eta -:--:--\n",
      "     -------------------------------------- 58.1/58.1 kB 438.7 kB/s eta 0:00:00\n",
      "Requirement already satisfied: colorama in c:\\python\\python38\\lib\\site-packages (from qrcode[pil]) (0.4.4)\n",
      "Collecting pillow>=9.1.0 (from qrcode[pil])\n",
      "  Downloading Pillow-10.1.0-cp38-cp38-win_amd64.whl.metadata (9.6 kB)\n",
      "Downloading Pillow-10.1.0-cp38-cp38-win_amd64.whl (2.6 MB)\n",
      "   ---------------------------------------- 0.0/2.6 MB ? eta -:--:--\n",
      "   - -------------------------------------- 0.1/2.6 MB 1.7 MB/s eta 0:00:02\n",
      "   ---- ----------------------------------- 0.3/2.6 MB 3.4 MB/s eta 0:00:01\n",
      "   ---- ----------------------------------- 0.3/2.6 MB 2.1 MB/s eta 0:00:02\n",
      "   ----- ---------------------------------- 0.3/2.6 MB 2.1 MB/s eta 0:00:02\n",
      "   ----- ---------------------------------- 0.4/2.6 MB 1.9 MB/s eta 0:00:02\n",
      "   ----- ---------------------------------- 0.4/2.6 MB 1.9 MB/s eta 0:00:02\n",
      "   ----- ---------------------------------- 0.4/2.6 MB 1.9 MB/s eta 0:00:02\n",
      "   ------------- -------------------------- 0.9/2.6 MB 2.4 MB/s eta 0:00:01\n",
      "   --------------- ------------------------ 1.0/2.6 MB 2.4 MB/s eta 0:00:01\n",
      "   ---------------- ----------------------- 1.1/2.6 MB 2.3 MB/s eta 0:00:01\n",
      "   ------------------- -------------------- 1.3/2.6 MB 2.5 MB/s eta 0:00:01\n",
      "   --------------------- ------------------ 1.4/2.6 MB 2.5 MB/s eta 0:00:01\n",
      "   ------------------------- -------------- 1.7/2.6 MB 2.7 MB/s eta 0:00:01\n",
      "   --------------------------- ------------ 1.8/2.6 MB 2.7 MB/s eta 0:00:01\n",
      "   ------------------------------ --------- 2.0/2.6 MB 2.8 MB/s eta 0:00:01\n",
      "   -------------------------------- ------- 2.1/2.6 MB 2.8 MB/s eta 0:00:01\n",
      "   ---------------------------------- ----- 2.3/2.6 MB 2.9 MB/s eta 0:00:01\n",
      "   ------------------------------------- -- 2.5/2.6 MB 2.9 MB/s eta 0:00:01\n",
      "   ---------------------------------------  2.6/2.6 MB 3.0 MB/s eta 0:00:01\n",
      "   ---------------------------------------  2.6/2.6 MB 3.0 MB/s eta 0:00:01\n",
      "   ---------------------------------------  2.6/2.6 MB 3.0 MB/s eta 0:00:01\n",
      "   ---------------------------------------- 2.6/2.6 MB 2.5 MB/s eta 0:00:00\n",
      "Installing collected packages: pypng, qrcode, pillow\n",
      "  Attempting uninstall: pillow\n",
      "    Found existing installation: Pillow 9.0.1\n",
      "    Uninstalling Pillow-9.0.1:\n",
      "      Successfully uninstalled Pillow-9.0.1\n",
      "Successfully installed pillow-10.1.0 pypng-0.20220715.0 qrcode-7.4.2\n"
     ]
    }
   ],
   "source": [
    "!pip install qrcode[pil]\n"
   ]
  },
  {
   "cell_type": "code",
   "execution_count": 1,
   "id": "31860e3f-b068-4232-a3b7-3dcb8f6c0498",
   "metadata": {},
   "outputs": [
    {
     "name": "stdout",
     "output_type": "stream",
     "text": [
      "QR code generated and saved to output_qrcode.png\n"
     ]
    }
   ],
   "source": [
    "import qrcode\n",
    "\n",
    "def generate_qr_code(url, file_path):\n",
    "    # Create an instance of the QRCode class\n",
    "    qr = qrcode.QRCode(\n",
    "        version=1,\n",
    "        error_correction=qrcode.constants.ERROR_CORRECT_L,\n",
    "        box_size=10,\n",
    "        border=4,\n",
    "    )\n",
    "\n",
    "    # Add data to the QRCode instance\n",
    "    qr.add_data(\"https://github.com/SwathiLogics/SwathiLogics.git\")\n",
    "    qr.make(fit=True)\n",
    "\n",
    "    # Create an instance of the Image class\n",
    "    img = qr.make_image(fill_color=\"pink\", back_color=\"blue\")\n",
    "\n",
    "    # Save the QR code image to a file\n",
    "    img.save(file_path)\n",
    "\n",
    "if __name__ == \"__main__\":\n",
    "    # Replace 'your_url_here' with the actual URL you want to encode\n",
    "    url_to_encode = \"https://github.com/SwathiLogics/SwathiLogics.git\"\n",
    "    \n",
    "    # Replace 'output_qrcode.png' with the desired output file path\n",
    "    output_file_path = \"output_qrcode.png\"\n",
    "\n",
    "    generate_qr_code(url_to_encode, output_file_path)\n",
    "    print(f\"QR code generated and saved to {output_file_path}\")\n"
   ]
  },
  {
   "cell_type": "code",
   "execution_count": null,
   "id": "5ba38cf6-5748-495a-9043-705c77c44925",
   "metadata": {},
   "outputs": [],
   "source": []
  }
 ],
 "metadata": {
  "kernelspec": {
   "display_name": "Python 3 (ipykernel)",
   "language": "python",
   "name": "python3"
  },
  "language_info": {
   "codemirror_mode": {
    "name": "ipython",
    "version": 3
   },
   "file_extension": ".py",
   "mimetype": "text/x-python",
   "name": "python",
   "nbconvert_exporter": "python",
   "pygments_lexer": "ipython3",
   "version": "3.8.10"
  }
 },
 "nbformat": 4,
 "nbformat_minor": 5
}
